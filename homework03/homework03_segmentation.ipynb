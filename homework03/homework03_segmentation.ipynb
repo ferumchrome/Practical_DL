{
 "cells": [
  {
   "cell_type": "markdown",
   "metadata": {
    "colab_type": "text",
    "id": "oIB0WqQV7j08"
   },
   "source": [
    "# Artem Moskalev. Convolutional neural networks for semantic segmentation\n",
    "\n",
    "## Get the data \n",
    "\n",
    "Here's a link to the tar with the dataset splitted into train and validation set. Execute the following lines or download and unpack the archive manually. "
   ]
  },
  {
   "cell_type": "code",
   "execution_count": 1,
   "metadata": {
    "colab": {
     "autoexec": {
      "startup": false,
      "wait_interval": 0
     },
     "base_uri": "https://localhost:8080/",
     "height": 303
    },
    "colab_type": "code",
    "executionInfo": {
     "elapsed": 14306,
     "status": "ok",
     "timestamp": 1523956488426,
     "user": {
      "displayName": "Артём Артём",
      "photoUrl": "//lh6.googleusercontent.com/-gpvlQBZ7UVw/AAAAAAAAAAI/AAAAAAAABAI/yONY0-PmrXg/s50-c-k-no/photo.jpg",
      "userId": "101466047882749861685"
     },
     "user_tz": -180
    },
    "id": "2HQ0fOZz7sSO",
    "outputId": "09d2c30f-8c65-4681-c8ba-d88e5acbcc34"
   },
   "outputs": [
    {
     "name": "stdout",
     "output_type": "stream",
     "text": [
      "--2018-04-18 20:06:11--  https://www.dropbox.com/s/73uav2bhlc88z1k/hp4x.tar.gz?dl=0\n",
      "Resolving www.dropbox.com (www.dropbox.com)... 162.125.66.1, 2620:100:6022:1::a27d:4201\n",
      "Connecting to www.dropbox.com (www.dropbox.com)|162.125.66.1|:443... connected.\n",
      "HTTP request sent, awaiting response... 302 Found\n",
      "Location: https://dl.dropboxusercontent.com/content_link/X1vfSyaMcfEXUxox8JMAM4BYfeO2lGVtoPNUO5BGoCrE5r2MmNbzcYz3rt2vtdn4/file [following]\n",
      "--2018-04-18 20:06:12--  https://dl.dropboxusercontent.com/content_link/X1vfSyaMcfEXUxox8JMAM4BYfeO2lGVtoPNUO5BGoCrE5r2MmNbzcYz3rt2vtdn4/file\n",
      "Resolving dl.dropboxusercontent.com (dl.dropboxusercontent.com)... 162.125.66.6, 2620:100:6022:6::a27d:4206\n",
      "Connecting to dl.dropboxusercontent.com (dl.dropboxusercontent.com)|162.125.66.6|:443... connected.\n",
      "HTTP request sent, awaiting response... 200 OK\n",
      "Length: 68519950 (65M) [application/octet-stream]\n",
      "Saving to: ‘data.tar.gz’\n",
      "\n",
      "100%[======================================>] 68 519 950  10,9MB/s   in 6,3s   \n",
      "\n",
      "2018-04-18 20:06:19 (10,3 MB/s) - ‘data.tar.gz’ saved [68519950/68519950]\n",
      "\n"
     ]
    }
   ],
   "source": [
    "! wget https://www.dropbox.com/s/73uav2bhlc88z1k/hp4x.tar.gz?dl=0 -O data.tar.gz\n",
    "! tar -zxf data.tar.gz"
   ]
  },
  {
   "cell_type": "markdown",
   "metadata": {
    "colab_type": "text",
    "id": "-6bWvuao7j1K"
   },
   "source": [
    "## Introduction\n",
    "\n",
    "The problem offered to you is multi-class semantic segmentation. We provide you with an implementation of a Dataset file and a couple of handy transforms that will save you some time. You will have to code your own augmentations though -- for this task they will likely be slightly different. \n",
    "\n",
    "The evaluation metric for this problem is unweighted Mean Intersection over Union (mIoU) over all classes. But we ask you to report not only the mIoU score, but also IoU scores for each class. \n",
    "\n",
    "## Dataset \n",
    "\n",
    "This is a 4x-downsampled version of HumanParsing dataset, with all original labels merged into three groups:\n",
    "\n",
    "    1. Background\n",
    "    2. Clothes\n",
    "    3. Body part\n",
    "    \n",
    "Each photo is a 150x100 RGB image.\n",
    "  \n",
    "This problem is more complex than image classification and is computationally intensive. Design you experiment accordingly, aiming as quick feedback on your ideas. It's time to apply every method and trick you've learned during the course. To achieve higher scores we suggest the following:\n",
    "\n",
    "    1. Read more about multi-class segmentation nets and state of the art convolutional encoder-decoders\n",
    "    2. User pretrained (at least, partially) networks for encoding\n",
    "    3. Try some augmentation (look into torchvision package)\n",
    "    4. Experiment with learning rate, scheduled learning rate and class weighting. \n",
    "    \n",
    "The classes are imbalanced, although less so than they are in the real dataset. You will need to come up with a way to mitigate that.\n",
    "\n",
    "\n",
    "## Grading\n",
    "\n",
    "60% - 0.6 mIoU\n",
    "70% - 0.7 mIoU\n",
    "80% - 0.8 mIoU\n",
    "\n",
    "Remaining 20% will be given for the quality of the report and deep analysis."
   ]
  },
  {
   "cell_type": "code",
   "execution_count": 25,
   "metadata": {
    "colab": {
     "autoexec": {
      "startup": false,
      "wait_interval": 0
     }
    },
    "colab_type": "code",
    "collapsed": true,
    "id": "BvvTkaM67j1Q"
   },
   "outputs": [],
   "source": [
    "import scipy as sp\n",
    "import scipy.misc\n",
    "import matplotlib.pyplot as plt\n",
    "import numpy as np\n",
    "import time \n",
    "\n",
    "import torch\n",
    "from torch import nn\n",
    "from torch.autograd import Variable\n",
    "from tqdm import tqdm, tqdm_notebook\n",
    "import torch.nn.functional as F\n",
    "from torchvision import transforms\n",
    "%matplotlib inline"
   ]
  },
  {
   "cell_type": "code",
   "execution_count": 26,
   "metadata": {
    "colab": {
     "autoexec": {
      "startup": false,
      "wait_interval": 0
     },
     "base_uri": "https://localhost:8080/",
     "height": 431
    },
    "colab_type": "code",
    "executionInfo": {
     "elapsed": 974,
     "status": "ok",
     "timestamp": 1523960871004,
     "user": {
      "displayName": "Артём Артём",
      "photoUrl": "//lh6.googleusercontent.com/-gpvlQBZ7UVw/AAAAAAAAAAI/AAAAAAAABAI/yONY0-PmrXg/s50-c-k-no/photo.jpg",
      "userId": "101466047882749861685"
     },
     "user_tz": -180
    },
    "id": "Ou8PZ0NT7j1g",
    "outputId": "28c55ccc-bd81-4de6-d697-03d7418a07ff"
   },
   "outputs": [
    {
     "name": "stderr",
     "output_type": "stream",
     "text": [
      "/home/use/anaconda3/lib/python3.6/site-packages/ipykernel_launcher.py:3: DeprecationWarning: `imread` is deprecated!\n",
      "`imread` is deprecated in SciPy 1.0.0, and will be removed in 1.2.0.\n",
      "Use ``imageio.imread`` instead.\n",
      "  This is separate from the ipykernel package so we can avoid doing imports until\n",
      "/home/use/anaconda3/lib/python3.6/site-packages/ipykernel_launcher.py:6: DeprecationWarning: `imread` is deprecated!\n",
      "`imread` is deprecated in SciPy 1.0.0, and will be removed in 1.2.0.\n",
      "Use ``imageio.imread`` instead.\n",
      "  \n"
     ]
    },
    {
     "data": {
      "image/png": "[encoded data removed]",
      "text/plain": [
       "<matplotlib.figure.Figure at 0x7f2129451128>"
      ]
     },
     "metadata": {},
     "output_type": "display_data"
    }
   ],
   "source": [
    "plt.figure(figsize=(10,8))\n",
    "plt.subplot(1,2,1)\n",
    "im = sp.misc.imread('humanparsing-4x/valid/imgs/997_399.jpg')\n",
    "plt.imshow(im)\n",
    "plt.subplot(1,2,2)\n",
    "mask = sp.misc.imread('humanparsing-4x/valid/maps/997_399.png')\n",
    "plt.imshow(mask, 'gray');"
   ]
  },
  {
   "cell_type": "code",
   "execution_count": 4,
   "metadata": {
    "colab": {
     "autoexec": {
      "startup": false,
      "wait_interval": 0
     }
    },
    "colab_type": "code",
    "collapsed": true,
    "id": "k6NsSVU17j12"
   },
   "outputs": [],
   "source": [
    "from humanparsing import HumanParsing, fast_hist, per_class_iu\n",
    "from torch.utils.data import DataLoader"
   ]
  },
  {
   "cell_type": "code",
   "execution_count": 5,
   "metadata": {
    "colab": {
     "autoexec": {
      "startup": false,
      "wait_interval": 0
     }
    },
    "colab_type": "code",
    "collapsed": true,
    "id": "FUZ95KNc7j2C"
   },
   "outputs": [],
   "source": [
    "#train_transforms = [transforms.RandomHorizontalFlip()]\n",
    "#train_transforms = [transforms.RandomSizedCrop(size=(150,100)),transforms.RandomHorizontalFlip()]"
   ]
  },
  {
   "cell_type": "code",
   "execution_count": 6,
   "metadata": {
    "colab": {
     "autoexec": {
      "startup": false,
      "wait_interval": 0
     },
     "base_uri": "https://localhost:8080/",
     "height": 35
    },
    "colab_type": "code",
    "executionInfo": {
     "elapsed": 534,
     "status": "ok",
     "timestamp": 1523960874082,
     "user": {
      "displayName": "Артём Артём",
      "photoUrl": "//lh6.googleusercontent.com/-gpvlQBZ7UVw/AAAAAAAAAAI/AAAAAAAABAI/yONY0-PmrXg/s50-c-k-no/photo.jpg",
      "userId": "101466047882749861685"
     },
     "user_tz": -180
    },
    "id": "cObNH3_F7j2I",
    "outputId": "1d600613-02c4-4e81-9195-41b3b70d74f2"
   },
   "outputs": [
    {
     "name": "stdout",
     "output_type": "stream",
     "text": [
      "14533 images in train set, 1615 in validation set\n"
     ]
    }
   ],
   "source": [
    "train_data = HumanParsing(data_dir='./humanparsing-4x/train/', augmentation=None)\n",
    "valid_data = HumanParsing(data_dir='./humanparsing-4x/valid/', augmentation=None)\n",
    "\n",
    "print('{} images in train set, {} in validation set'.format(len(train_data), len(valid_data)))\n",
    "\n",
    "batch_size = 16\n",
    "\n",
    "train_loader = DataLoader(train_data, shuffle=True, batch_size=batch_size, num_workers=1)\n",
    "valid_loader = DataLoader(valid_data, shuffle=False, batch_size=1, num_workers=0)"
   ]
  },
  {
   "cell_type": "markdown",
   "metadata": {
    "colab_type": "text",
    "id": "MP6DDK_t7j2c"
   },
   "source": [
    "#### Building a net"
   ]
  },
  {
   "cell_type": "code",
   "execution_count": 7,
   "metadata": {
    "colab": {
     "autoexec": {
      "startup": false,
      "wait_interval": 0
     }
    },
    "colab_type": "code",
    "collapsed": true,
    "id": "L-XESMfu7j2i"
   },
   "outputs": [],
   "source": [
    "import torch\n",
    "from torch import nn\n",
    "\n",
    "class downstream_block(nn.Module):\n",
    "    def __init__(self, in_dim=None, out_dim=None, kernel_dim=3, kernel_padding=1, ceil_mode=False):\n",
    "        super(downstream_block, self).__init__()\n",
    "        \n",
    "        self.conv1 = nn.Conv2d(in_dim, out_dim, kernel_dim, padding=kernel_padding)\n",
    "        self.bn1 = nn.BatchNorm2d(out_dim)\n",
    "        self.relu1 = nn.LeakyReLU()\n",
    "        \n",
    "        self.conv2 = nn.Conv2d(out_dim, out_dim, kernel_dim, padding=kernel_padding)\n",
    "        self.bn2 = nn.BatchNorm2d(out_dim)\n",
    "        self.relu2 = nn.LeakyReLU()\n",
    "        self.mp = nn.MaxPool2d(2, ceil_mode=ceil_mode)\n",
    "        \n",
    "    def forward(self, x):\n",
    "        x = self.mp(x)\n",
    "        x = self.conv1(x)\n",
    "        x = self.bn1(x)\n",
    "        x = self.relu1(x)\n",
    "        x = self.conv2(x)\n",
    "        x = self.bn2(x)\n",
    "        x = self.relu2(x)\n",
    "        return x\n",
    "    \n",
    "class upstream_block(nn.Module):\n",
    "    def __init__(self, in_dim=None, out_dim=None, kernel_dim=3, kernel_padding=1, size=None):\n",
    "        super(upstream_block, self).__init__()\n",
    "        \n",
    "        if size is None:\n",
    "            self.up = nn.Upsample(scale_factor=2)\n",
    "        else:\n",
    "            self.up = nn.Upsample(size=size,mode='bilinear')\n",
    "        \n",
    "        self.conv1 = nn.Conv2d(in_dim, out_dim, kernel_dim, padding=kernel_padding)\n",
    "        self.bn1 = nn.BatchNorm2d(out_dim)\n",
    "        self.relu1 = nn.LeakyReLU()\n",
    "        \n",
    "        self.conv2 = nn.Conv2d(out_dim, out_dim, kernel_dim, padding=kernel_padding)\n",
    "        self.bn2 = nn.BatchNorm2d(out_dim)\n",
    "        self.relu2 = nn.LeakyReLU()\n",
    "        \n",
    "    def forward(self, FM1, FM2):\n",
    "        x = self.up(FM1)\n",
    "        x = self.conv1(torch.cat((x,FM2), dim=1))\n",
    "        x = self.bn1(x)\n",
    "        x = self.relu1(x)\n",
    "        x = self.conv2(x)\n",
    "        x = self.bn2(x)\n",
    "        x = self.relu2(x)\n",
    "        \n",
    "        return x\n",
    "\n",
    "class Vanilla_UNet(nn.Module):\n",
    "    def __init__(self):\n",
    "        super(Vanilla_UNet, self).__init__()\n",
    "        \n",
    "        self.inconv1 = nn.Conv2d(3, out_channels=32, kernel_size=3, padding=1)\n",
    "        self.inconv2 = nn.Conv2d(32,32,3, padding=1)\n",
    "        \n",
    "        self.down1 = downstream_block(32,64)\n",
    "        self.down2 = downstream_block(64,128)\n",
    "        self.down3 = downstream_block(128,256)\n",
    "        self.down4 = downstream_block(256,256)\n",
    "        \n",
    "        self.up1 = upstream_block(512, 128)\n",
    "        self.up2 = upstream_block(256,64, size=(37, 25))\n",
    "        self.up3 = upstream_block(128,32, size=(75, 50))\n",
    "        self.up4 = upstream_block(64,32)\n",
    "        \n",
    "        self.outconv = nn.Conv2d(in_channels=32, out_channels=3, kernel_size=1)\n",
    "        #self.sm = nn.Softmax2d()\n",
    "        \n",
    "    def forward(self, x):\n",
    "        \n",
    "        x_in = self.inconv2(self.inconv1(x))\n",
    "        \n",
    "        x1 = self.down1(x_in)\n",
    "        x2 = self.down2(x1)\n",
    "        x3 = self.down3(x2)\n",
    "        x4 = self.down4(x3)\n",
    "        \n",
    "        x = self.up1(FM1=x4, FM2=x3)\n",
    "        x = self.up2(FM1=x, FM2=x2)\n",
    "        x = self.up3(FM1=x, FM2=x1)\n",
    "        x = self.up4(FM1=x, FM2=x_in)\n",
    "        \n",
    "        x = self.outconv(x)\n",
    "        #x = self.sm(x)\n",
    "        return x"
   ]
  },
  {
   "cell_type": "code",
   "execution_count": 8,
   "metadata": {
    "colab": {
     "autoexec": {
      "startup": false,
      "wait_interval": 0
     }
    },
    "colab_type": "code",
    "collapsed": true,
    "id": "ZAUlsWkJ7j2y"
   },
   "outputs": [],
   "source": [
    "net = Vanilla_UNet().cuda()\n",
    "opt = torch.optim.Adam(net.parameters(), lr=1e-2)"
   ]
  },
  {
   "cell_type": "markdown",
   "metadata": {
    "colab_type": "text",
    "id": "4KulhIZF7j3M"
   },
   "source": [
    " - ##### Difine the loss:"
   ]
  },
  {
   "cell_type": "markdown",
   "metadata": {
    "colab_type": "text",
    "id": "tla8WngM7j3i"
   },
   "source": [
    "I suggest to use an ensemble of 2 U-Nets: for clothes and for body. Thus, we will have to define to separate pipelines:"
   ]
  },
  {
   "cell_type": "code",
   "execution_count": 9,
   "metadata": {
    "colab": {
     "autoexec": {
      "startup": false,
      "wait_interval": 0
     }
    },
    "colab_type": "code",
    "collapsed": true,
    "id": "AQsZNkdn7j3k"
   },
   "outputs": [],
   "source": [
    "def compute_loss(X_batch, y_batch):\n",
    "    X_batch = Variable(torch.FloatTensor(X_batch).cuda())\n",
    "    y_batch = Variable(torch.LongTensor(y_batch).cuda())\n",
    "    logits = net(X_batch)\n",
    "    return F.cross_entropy(logits, y_batch).mean()"
   ]
  },
  {
   "cell_type": "markdown",
   "metadata": {
    "colab_type": "text",
    "id": "aRu9a7ek7j3u"
   },
   "source": [
    " - ##### Train U-Net:"
   ]
  },
  {
   "cell_type": "code",
   "execution_count": 10,
   "metadata": {
    "colab": {
     "autoexec": {
      "startup": false,
      "wait_interval": 0
     },
     "base_uri": "https://localhost:8080/",
     "height": 839
    },
    "colab_type": "code",
    "executionInfo": {
     "elapsed": 3790032,
     "status": "ok",
     "timestamp": 1523964669670,
     "user": {
      "displayName": "Артём Артём",
      "photoUrl": "//lh6.googleusercontent.com/-gpvlQBZ7UVw/AAAAAAAAAAI/AAAAAAAABAI/yONY0-PmrXg/s50-c-k-no/photo.jpg",
      "userId": "101466047882749861685"
     },
     "user_tz": -180
    },
    "id": "apBOVW__7j3y",
    "outputId": "f0754fe1-9312-48e7-eae4-0b647cae1a74"
   },
   "outputs": [
    {
     "data": {
      "application/vnd.jupyter.widget-view+json": {
       "model_id": "08638e907a5b4fdfa3561057a3ad319f",
       "version_major": 2,
       "version_minor": 0
      },
      "text/plain": [
       "A Jupyter Widget"
      ]
     },
     "metadata": {},
     "output_type": "display_data"
    },
    {
     "name": "stdout",
     "output_type": "stream",
     "text": [
      "Epoch 1 of 15 took 106.728s\n",
      "  training loss (in-iteration): \t0.181199\n",
      "  validation loss: \t\t\t18.56 %\n",
      "Epoch 2 of 15 took 108.637s\n",
      "  training loss (in-iteration): \t0.154524\n",
      "  validation loss: \t\t\t13.77 %\n",
      "Epoch 3 of 15 took 107.500s\n",
      "  training loss (in-iteration): \t0.131118\n",
      "  validation loss: \t\t\t13.33 %\n",
      "Epoch 4 of 15 took 107.488s\n",
      "  training loss (in-iteration): \t0.124681\n",
      "  validation loss: \t\t\t12.60 %\n",
      "Epoch 5 of 15 took 108.174s\n",
      "  training loss (in-iteration): \t0.114155\n",
      "  validation loss: \t\t\t10.57 %\n",
      "Epoch 6 of 15 took 107.687s\n",
      "  training loss (in-iteration): \t0.109854\n",
      "  validation loss: \t\t\t10.42 %\n",
      "Epoch 7 of 15 took 107.178s\n",
      "  training loss (in-iteration): \t0.099319\n",
      "  validation loss: \t\t\t10.59 %\n",
      "Epoch 8 of 15 took 107.124s\n",
      "  training loss (in-iteration): \t0.096648\n",
      "  validation loss: \t\t\t10.28 %\n",
      "Epoch 9 of 15 took 108.265s\n",
      "  training loss (in-iteration): \t0.083012\n",
      "  validation loss: \t\t\t8.90 %\n",
      "Epoch 10 of 15 took 107.878s\n",
      "  training loss (in-iteration): \t0.080792\n",
      "  validation loss: \t\t\t8.82 %\n",
      "Epoch 11 of 15 took 109.488s\n",
      "  training loss (in-iteration): \t0.079374\n",
      "  validation loss: \t\t\t8.60 %\n",
      "Epoch 12 of 15 took 108.028s\n",
      "  training loss (in-iteration): \t0.079034\n",
      "  validation loss: \t\t\t8.48 %\n",
      "Epoch 13 of 15 took 108.930s\n",
      "  training loss (in-iteration): \t0.077939\n",
      "  validation loss: \t\t\t8.56 %\n",
      "Epoch 14 of 15 took 108.760s\n",
      "  training loss (in-iteration): \t0.075019\n",
      "  validation loss: \t\t\t8.44 %\n",
      "Epoch 15 of 15 took 107.814s\n",
      "  training loss (in-iteration): \t0.075090\n",
      "  validation loss: \t\t\t8.44 %\n",
      "\n"
     ]
    }
   ],
   "source": [
    "num_epochs = 15\n",
    "val_loss, train_loss = [],[]\n",
    "for epoch in tqdm_notebook(range(num_epochs)):\n",
    "    \n",
    "    start_time = time.time()\n",
    "    net.train(True)\n",
    "    for X_batch, y_batch in train_loader:\n",
    "\n",
    "        loss = compute_loss(X_batch, y_batch)\n",
    "        loss.backward()\n",
    "        opt.step()\n",
    "        opt.zero_grad()\n",
    "        train_loss.append(loss.cpu().data.numpy()[0])\n",
    "        \n",
    "    if (epoch+1)%8==0:\n",
    "        opt.param_groups[0]['lr'] = opt.param_groups[0]['lr']/20\n",
    "    \n",
    "    net.train(False) \n",
    "    for X_batch, y_batch in valid_loader:\n",
    "        loss = compute_loss(X_batch, y_batch)\n",
    "        val_loss.append(loss.cpu().data.numpy()[0])\n",
    "\n",
    "    \n",
    "    # Then we print the results for this epoch:\n",
    "    print(\"Epoch {} of {} took {:.3f}s\".format(\n",
    "        epoch + 1, num_epochs, time.time() - start_time))\n",
    "    print(\"  training loss (in-iteration): \\t{:.6f}\".format(\n",
    "        np.mean(train_loss[-len(train_loader) // batch_size :])))\n",
    "    print(\"  validation loss: \\t\\t\\t{:.2f} %\".format(\n",
    "        np.mean(val_loss[-len(valid_loader) // batch_size :]) * 100))"
   ]
  },
  {
   "cell_type": "markdown",
   "metadata": {
    "colab_type": "text",
    "id": "uIFYXzRo7j4G"
   },
   "source": [
    " - ##### Test U-Net:"
   ]
  },
  {
   "cell_type": "code",
   "execution_count": 11,
   "metadata": {
    "colab": {
     "autoexec": {
      "startup": false,
      "wait_interval": 0
     }
    },
    "colab_type": "code",
    "collapsed": true,
    "id": "kT7lVdiw7j4M"
   },
   "outputs": [],
   "source": [
    "def fast_hist(pred, label, n=3):\n",
    "    # pred, label -- flattened numpy arrays containing label ids for each pixel\n",
    "    k = (label >= 0) & (label < n)\n",
    "    return np.bincount(n * label[k].astype(int) + pred[k], minlength=n ** 2).reshape(n, n)\n",
    "\n",
    "\n",
    "def per_class_iu(hist):\n",
    "    return np.diag(hist) / (hist.sum(1) + hist.sum(0) - np.diag(hist))"
   ]
  },
  {
   "cell_type": "code",
   "execution_count": 12,
   "metadata": {
    "colab": {
     "autoexec": {
      "startup": false,
      "wait_interval": 0
     },
     "base_uri": "https://localhost:8080/",
     "height": 1065
    },
    "colab_type": "code",
    "collapsed": true,
    "executionInfo": {
     "elapsed": 6584,
     "status": "error",
     "timestamp": 1523964678606,
     "user": {
      "displayName": "Артём Артём",
      "photoUrl": "//lh6.googleusercontent.com/-gpvlQBZ7UVw/AAAAAAAAAAI/AAAAAAAABAI/yONY0-PmrXg/s50-c-k-no/photo.jpg",
      "userId": "101466047882749861685"
     },
     "user_tz": -180
    },
    "id": "VU6kojwu7j4W",
    "outputId": "03308045-41ad-4fad-daca-967501b01416"
   },
   "outputs": [],
   "source": [
    "net.train(False) \n",
    "\n",
    "per_class_IoU = list()\n",
    "\n",
    "for X_batch, y_batch in valid_loader:\n",
    "    pred = net(Variable(X_batch.cuda(), volatile=True))\n",
    "    pred = pred.max(1)[1].cpu().data.numpy()\n",
    "\n",
    "    per_class_IoU.append(per_class_iu(fast_hist(pred, y_batch.numpy())))\n",
    "\n",
    "per_class_IoU = np.array(per_class_IoU)"
   ]
  },
  {
   "cell_type": "code",
   "execution_count": 13,
   "metadata": {},
   "outputs": [
    {
     "name": "stdout",
     "output_type": "stream",
     "text": [
      "mean IoU: 0.845603406528076\n"
     ]
    }
   ],
   "source": [
    "print('mean IoU:', np.mean(per_class_IoU))"
   ]
  },
  {
   "cell_type": "code",
   "execution_count": 24,
   "metadata": {},
   "outputs": [
    {
     "data": {
      "image/png": "[encoded data removed]",
      "text/plain": [
       "<matplotlib.figure.Figure at 0x7f2129434518>"
      ]
     },
     "metadata": {},
     "output_type": "display_data"
    }
   ],
   "source": [
    "plt.bar(['Body:'+str(round(mIoUpc[0],2)),'Clothes:'+str(round(mIoUpc[1],2)),'Background:'+str(round(mIoUpc[2],2))],height = np.mean(per_class_IoU, axis=0))\n",
    "plt.hlines(y=np.mean(per_class_IoU), xmin=-0.5, xmax=2.5, colors='r', linestyles=':', label='mIoU')\n",
    "plt.title('Per class IoU')\n",
    "plt.legend()\n",
    "plt.ylabel('IoU');"
   ]
  },
  {
   "cell_type": "code",
   "execution_count": 15,
   "metadata": {},
   "outputs": [
    {
     "data": {
      "image/png": "[encoded data removed]",
      "text/plain": [
       "<matplotlib.figure.Figure at 0x7f20e85098d0>"
      ]
     },
     "metadata": {},
     "output_type": "display_data"
    }
   ],
   "source": [
    "fig, ax = plt.subplots(1,3, figsize=(15,7))\n",
    "ax[0].imshow(X_batch.numpy()[0,0,...], cmap='gray')\n",
    "ax[0].set_title('Image')\n",
    "ax[1].imshow(pred[0,...])\n",
    "ax[1].set_title('Predicted mask')\n",
    "ax[2].imshow(y_batch.numpy()[0,...])\n",
    "ax[2].set_title('Ground Truth');"
   ]
  },
  {
   "cell_type": "markdown",
   "metadata": {
    "colab_type": "text",
    "id": "ev_YjRme7j4e"
   },
   "source": [
    "## Report \n",
    "\n",
    "Hello, adventurer!\n",
    "\n",
    "Today was a long day and I am finishing the fourth can of Red Bull. But it's fine, because there's nothing more exciting in the whole world than a noble quest for the best segmentation algorithm. Anyways, here's the story, and oh my, what a marvelous journey it was!..\n",
    "\n",
    "### Preprocessing\n",
    "\n",
    "From preprocessing, in the final model, nothing except default Normalization is used. I experimented with RandomResizeCrop and RandomHorizontalFlip, but because of specifics of humanparsing.py file, I constantly had errors and finally tried to manually load a dataset and warp it in PyTorch class and it was an even more huge pain to debug, so I ended with no specific augmentation.\n",
    "\n",
    "### Methods\n",
    "\n",
    "From the bare beginning, I was experimenting with two approaches. First is to build one U-Net for body segmentation and then, using weights from this network build one more U-Net for clothes and fine-tune it with no weights freezing. I used binary_cross_entropy as a loss here and on each iteration my $y_batch$ was just 2D tensor with 1's and 0's. It might have had worked good (and I bet would solve the problem of unbalanced classes), but slow and my patience was not unlimited, so I switched to the second approach. The second approach is more simple one is just to train one U-Net for everything, which I found is satisfactory in terms of speed of convergence and performance.\n",
    "\n",
    "As for U-Net architecture, I just took vanilla U-Net from the paper but excluded fully connected layer on the bare 'bottom' of the network to accelerate it. I used 3x3 kernels everywhere because U-Net paper mentions this technique to be fruitful. As to the number of feature maps, I selected the maximum number of FM's that my GPU is able to process.\n",
    "\n",
    "A number of epochs and learning rates were selected in the following way. Firstly, set $lr=10^-2$ and #epoches to 20. Then I noticed that network optimization stacks at 8-th epoch and loss does not decrease. That was a call to introduce learning rate decrease after that epoch. All other adjustments were done based on this logic.\n",
    "\n",
    "As to batch size, I selected the maximum batch size that my GPU is able to handle.\n",
    "\n",
    "### Conclusions\n",
    "\n",
    "U-Net rules. I would also try to use dilated convolutions instead of maxpooling and would do this task with the first approach I described in `Methods`, but time runs fast."
   ]
  }
 ],
 "metadata": {
  "accelerator": "GPU",
  "colab": {
   "collapsed_sections": [],
   "default_view": {},
   "name": "homework03_segmentation.ipynb",
   "provenance": [],
   "version": "0.3.2",
   "views": {}
  },
  "kernelspec": {
   "display_name": "Python 3",
   "language": "python",
   "name": "python3"
  },
  "language_info": {
   "codemirror_mode": {
    "name": "ipython",
    "version": 3
   },
   "file_extension": ".py",
   "mimetype": "text/x-python",
   "name": "python",
   "nbconvert_exporter": "python",
   "pygments_lexer": "ipython3",
   "version": "3.6.4"
  }
 },
 "nbformat": 4,
 "nbformat_minor": 1
}
