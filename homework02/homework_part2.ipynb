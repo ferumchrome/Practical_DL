{
 "cells": [
  {
   "cell_type": "markdown",
   "metadata": {
    "collapsed": true
   },
   "source": [
    "# Artem Moskalev. Homework 2.2: The Quest For A Better Network\n",
    "\n",
    "In this assignment you will:\n",
    "\n",
    "    1. Build a monster network to solve CIFAR10 image classification\n",
    "    2. Apply your transfer learning skills to fine-tune your network to a restricted CIFAR100 dataset.\n",
    "\n",
    "This notebook is intended as a sequel to seminar 3, please give it a try if you haven't done so yet."
   ]
  },
  {
   "cell_type": "markdown",
   "metadata": {},
   "source": [
    "* There is a __mini-report__ at the end that you will have to fill in. We recommend reading it first and filling it while you iterate.\n",
    "\n",
    "We add a new task of fine-tuning a pretrained network for different classes of similar domain. After you obtain good results on CIFAR-10 dataset:\n",
    "\n",
    "* choose any two classes from CIFAR-100\n",
    "* change your trained network to be suitable for binary classification\n",
    "* fine-tune it for reasonably good results on 2 classes from CIFAR-100\n",
    "* repeat the same for random initialization of the same network\n",
    "* compare the performance and training time in your report\n",
    "\n",
    "\n",
    " \n",
    "## Grading\n",
    "* starting at zero points\n",
    "* +20% for describing your iteration path in a report below.\n",
    "* +20% for building a network that gets above 20% accuracy\n",
    "* +5% for beating each of these milestones on __TEST__ dataset:\n",
    "    * 50% (45% points)\n",
    "    * 60% (50% points)\n",
    "    * 65% (55% points)\n",
    "    * 70% (60% points)\n",
    "    * 75% (65% points)\n",
    "    * 80% (70% points)\n",
    "* +30% for fine-tuning your best CIFAR-10 network for two classes from CIFAR-100, comparing the results with training the same network from scratch and reporting the results\n",
    "\n",
    "    \n",
    "## Restrictions\n",
    "* Please do NOT use pre-trained networks for this assignment until you reach 80%.\n",
    " * In other words, base milestones must be beaten without pre-trained nets (and such net must be present in the e-mail). After that, you can use whatever you want.\n",
    "* you __can__ use validation data for training, but you __can't'__ do anything with test data apart from running the evaluation procedure.\n",
    "\n",
    "## Tips on what can be done:\n",
    "\n",
    "\n",
    " * __Network size__\n",
    "   * MOAR neurons, \n",
    "   * MOAR layers, ([torch.nn docs](http://pytorch.org/docs/master/nn.html))\n",
    "   * Nonlinearities in the hidden layers\n",
    "     * tanh, relu, leaky relu, etc\n",
    "   * Larger networks may take more epochs to train, so don't discard your net just because it could didn't beat the baseline in 5 epochs.\n",
    " * __Network architecture__\n",
    "   * Different ways to combine convolutional/pooling/activation layers\n",
    "   * Regularization methods\n",
    "\n",
    "\n",
    "\n",
    "### The main rule of prototyping: one change at a time\n",
    "   * By now you probably have several ideas on what to change. By all means, try them out! But there's a catch: __never test several new things at once__.\n",
    "\n",
    "\n",
    "### Optimization\n",
    "   * Training for 100 epochs regardless of anything is probably a bad idea.\n",
    "   * Some networks converge over 5 epochs, others - over 500.\n",
    "   * Try different optimizers, especially Adam, RMSProp, Adagrad, SGD with momentum: ([torch.optim](http://pytorch.org/docs/0.3.1/optim.html))\n",
    "   * Sometimes it makes sense to reduce LR during training: ([Dynamic learning rates](http://pytorch.org/docs/0.3.1/optim.html#how-to-adjust-learning-rate))\n",
    "   * __BatchNormalization__ (nn.BatchNorm2d) for the win!\n",
    "     * Sometimes more batch normalization is better.\n",
    "   * __Regularize__ to prevent overfitting\n",
    "     * Add some L2 weight norm to the loss function, PyTorch will do the rest\n",
    "       * Can be done manually or like [this](https://discuss.pytorch.org/t/simple-l2-regularization/139/2).\n",
    "     * Dropout (`nn.Dropout`) - to prevent overfitting\n",
    "       * Don't overdo it. Check if it actually makes your network better\n",
    "   \n",
    "### Convolution architectures\n",
    "   * This task __can__ be solved by a sequence of convolutions and poolings with batch_norm and ReLU seasoning, but you shouldn't necessarily stop there.\n",
    "   * [Inception family](https://hacktilldawn.com/2016/09/25/inception-modules-explained-and-implemented/), [ResNet family](https://towardsdatascience.com/an-overview-of-resnet-and-its-variants-5281e2f56035?gi=9018057983ca), [Densely-connected convolutions (exotic)](https://arxiv.org/abs/1608.06993), [Capsule networks (exotic)](https://arxiv.org/abs/1710.09829)\n",
    "   * Please do try a few simple architectures before you go for resnet-152.\n",
    "   * Warning! Training convolutional networks can take long without GPU. That's okay.\n",
    "     * If you are CPU-only, we still recommend that you try a simple convolutional architecture\n",
    "     * a perfect option is if you can set it up to run at nighttime and check it up at the morning.\n",
    "     * Make reasonable layer size estimates. A 128-neuron first convolution is likely an overkill.\n",
    "     * __To reduce computation__ time by a factor in exchange for some accuracy drop, try using __stride__ parameter. A stride=2 convolution should take roughly 1/4 of the default (stride=1) one.\n",
    " \n",
    "   \n",
    "### Data augmemntation\n",
    "   * getting 5x as large dataset for free is a great \n",
    "     * Zoom-in+slice = move\n",
    "     * Rotate+zoom(to remove black stripes)\n",
    "     * Add Noize (gaussian or bernoulli)\n",
    "   * Simple way to do that (if you have PIL/Image): \n",
    "     * ```from scipy.misc import imrotate,imresize```\n",
    "     * and a few slicing\n",
    "     * Other cool libraries: cv2, skimake, PIL/Pillow\n",
    "   * A more advanced way is to use torchvision transforms:\n",
    "    ```\n",
    "    transform_train = transforms.Compose([\n",
    "        transforms.RandomCrop(32, padding=4),\n",
    "        transforms.RandomHorizontalFlip(),\n",
    "        transforms.ToTensor(),\n",
    "        transforms.Normalize((0.4914, 0.4822, 0.4465), (0.2023, 0.1994, 0.2010)),\n",
    "    ])\n",
    "    trainset = torchvision.datasets.CIFAR10(root=path_to_cifar_like_in_seminar, train=True, download=True, transform=transform_train)\n",
    "    trainloader = torch.utils.data.DataLoader(trainset, batch_size=128, shuffle=True, num_workers=2)\n",
    "\n",
    "    ```\n",
    "   * Or use this tool from Keras (requires theano/tensorflow): [tutorial](https://blog.keras.io/building-powerful-image-classification-models-using-very-little-data.html), [docs](https://keras.io/preprocessing/image/)\n",
    "   * Stay realistic. There's usually no point in flipping dogs upside down as that is not the way you usually see them.\n",
    "   \n",
    "```\n",
    "\n",
    "```\n",
    "\n",
    "```\n",
    "\n",
    "```\n",
    "\n",
    "```\n",
    "\n",
    "```\n",
    "\n",
    "```\n",
    "\n",
    "```\n",
    "\n",
    "\n",
    "   \n",
    "There is a template for your solution below that you can opt to use or throw away and write it your way."
   ]
  },
  {
   "cell_type": "code",
   "execution_count": 1,
   "metadata": {
    "collapsed": true
   },
   "outputs": [],
   "source": [
    "import numpy as np\n",
    "import matplotlib.pyplot as plt\n",
    "from tqdm import tqdm_notebook\n",
    "%matplotlib inline"
   ]
  },
  {
   "cell_type": "code",
   "execution_count": 2,
   "metadata": {},
   "outputs": [
    {
     "name": "stdout",
     "output_type": "stream",
     "text": [
      "(40000, 3, 32, 32) (40000,)\n"
     ]
    }
   ],
   "source": [
    "from cifar import load_cifar10, load_cifar100\n",
    "X_train,y_train,X_val,y_val,X_test,y_test = load_cifar10(\"cifar_data\")\n",
    "class_names = np.array(['airplane','automobile ','bird ','cat ','deer ','dog ','frog ','horse ','ship ','truck'])\n",
    "\n",
    "print(X_train.shape,y_train.shape)"
   ]
  },
  {
   "cell_type": "code",
   "execution_count": 3,
   "metadata": {},
   "outputs": [
    {
     "name": "stdout",
     "output_type": "stream",
     "text": [
      "(800, 3, 32, 32) (800,)\n",
      "(200, 3, 32, 32) (200,)\n",
      "(200, 3, 32, 32) (200,)\n"
     ]
    }
   ],
   "source": [
    "X_train100, y_train100, X_val100, y_val100, X_test100, y_test100 = load_cifar100('./cifar100/', \n",
    "                                                                                 target_classes=(13, 37))\n",
    "print(X_train100.shape, y_train100.shape)\n",
    "print(X_val100.shape, y_val100.shape)\n",
    "print(X_test100.shape, y_test100.shape)"
   ]
  },
  {
   "cell_type": "markdown",
   "metadata": {},
   "source": [
    " - ##### Augment CIFAR10:"
   ]
  },
  {
   "cell_type": "code",
   "execution_count": 4,
   "metadata": {
    "collapsed": true
   },
   "outputs": [],
   "source": [
    "from skimage.transform import resize\n",
    "\n",
    "def augment_rotation(X,dummy=None):\n",
    "    return np.flip(X, axis=3)\n",
    "\n",
    "def augment_crop(X, size=22): #assume images are squares\n",
    "    d = X.shape[2] - size\n",
    "    dx = np.random.randint(X.shape[1]-d, X.shape[1])\n",
    "    dy = np.random.randint(X.shape[2]-d, X.shape[2])\n",
    "    cropped = X[:,(dx-size):dx,(dy-size):dy].copy()\n",
    "    return resize(cropped, output_shape=X.shape, mode='reflect')\n",
    "\n",
    "def augment_dataset(X_data, y_data, n=2):\n",
    "    rotated = np.apply_over_axes(func=augment_rotation, a=X_data, axes=[0])\n",
    "    print('Rotation done')\n",
    "    \n",
    "    X_cropped, y_cropped = list(), list()\n",
    "    for i in tqdm_notebook(range(0,X_data.shape[0],n)):\n",
    "        X_cropped.append(augment_crop(X_data[i]))\n",
    "        y_cropped.append(y_data[i])\n",
    "    \n",
    "    X_cropped, y_cropped = np.array(X_cropped), np.array(y_cropped)\n",
    "    \n",
    "    augmented_X = np.concatenate((X_data,rotated,X_cropped))\n",
    "    augmented_y = np.concatenate((y_data,y_data,y_cropped))\n",
    "    \n",
    "    return augmented_X, augmented_y"
   ]
  },
  {
   "cell_type": "code",
   "execution_count": 5,
   "metadata": {},
   "outputs": [
    {
     "data": {
      "image/png": "[encoded data removed]",
      "text/plain": [
       "<matplotlib.figure.Figure at 0x7f502c219a20>"
      ]
     },
     "metadata": {},
     "output_type": "display_data"
    }
   ],
   "source": [
    "img1 = X_train[3].copy()\n",
    "rot1 = augment_rotation(img1.reshape(1,3,32,32))[0,...]\n",
    "cr1 = augment_crop(img1, size=20)\n",
    "\n",
    "fig, ax = plt.subplots(1,3, figsize=(15,7))\n",
    "ax[0].imshow(img1[0,...], cmap='gray')\n",
    "ax[0].set_title('Original')\n",
    "ax[1].imshow(rot1[0,...], cmap='gray')\n",
    "ax[1].set_title('Flipped')\n",
    "ax[2].imshow(cr1[0,...], cmap='gray')\n",
    "ax[2].set_title('Cropped');"
   ]
  },
  {
   "cell_type": "code",
   "execution_count": 6,
   "metadata": {},
   "outputs": [
    {
     "name": "stdout",
     "output_type": "stream",
     "text": [
      "Rotation done\n"
     ]
    },
    {
     "data": {
      "application/vnd.jupyter.widget-view+json": {
       "model_id": "89ed2119f2694612b8a57a689021fd56",
       "version_major": 2,
       "version_minor": 0
      },
      "text/plain": [
       "A Jupyter Widget"
      ]
     },
     "metadata": {},
     "output_type": "display_data"
    },
    {
     "name": "stdout",
     "output_type": "stream",
     "text": [
      "\n"
     ]
    }
   ],
   "source": [
    "X_train_aug, y_train_aug = augment_dataset(X_train, y_train, n=1)"
   ]
  },
  {
   "cell_type": "markdown",
   "metadata": {},
   "source": [
    " - ##### CIFAR10:"
   ]
  },
  {
   "cell_type": "code",
   "execution_count": 7,
   "metadata": {
    "collapsed": true
   },
   "outputs": [],
   "source": [
    "import torch, torch.nn as nn\n",
    "import torch.nn.functional as F\n",
    "from torch.autograd import Variable\n",
    "\n",
    "class Flatten(nn.Module):\n",
    "    def forward(self, input):\n",
    "        #print(input.size())\n",
    "        return input.view(input.size(0), -1)"
   ]
  },
  {
   "cell_type": "code",
   "execution_count": 8,
   "metadata": {
    "collapsed": true
   },
   "outputs": [],
   "source": [
    "model = nn.Sequential()\n",
    "model.add_module('Conv1', nn.Conv2d(in_channels=3, out_channels=256, kernel_size=3, padding=1))\n",
    "model.add_module('Conv1-2', nn.Conv2d(in_channels=256, out_channels=256, kernel_size=3, padding=1))\n",
    "model.add_module('bn1', nn.BatchNorm2d(256))\n",
    "model.add_module('relu1', nn.LeakyReLU())\n",
    "model.add_module('mp1', nn.MaxPool2d(kernel_size=2))\n",
    "\n",
    "model.add_module('Conv2', nn.Conv2d(in_channels=256, out_channels=512, kernel_size=3, padding=1))\n",
    "model.add_module('bn2', nn.BatchNorm2d(512))\n",
    "model.add_module('relu2', nn.LeakyReLU())\n",
    "model.add_module('mp2', nn.MaxPool2d(kernel_size=2))\n",
    "\n",
    "model.add_module('Conv3', nn.Conv2d(in_channels=512, out_channels=1024, kernel_size=3, padding=1))\n",
    "model.add_module('bn3', nn.BatchNorm2d(1024))\n",
    "model.add_module('relu3', nn.LeakyReLU())\n",
    "\n",
    "model.add_module('av1', nn.AvgPool2d(kernel_size=8))\n",
    "model.add_module('flatten', Flatten())\n",
    "model.add_module('fc1', nn.LeakyReLU())\n",
    "\n",
    "model.add_module('Lin', nn.Linear(1024, 10))\n",
    "model.add_module('SM', nn.Softmax(dim=1))\n",
    "\n",
    "model.cuda();"
   ]
  },
  {
   "cell_type": "code",
   "execution_count": 9,
   "metadata": {
    "collapsed": true
   },
   "outputs": [],
   "source": [
    "def compute_loss(X_batch, y_batch):\n",
    "    X_batch = Variable(torch.FloatTensor(X_batch).cuda())\n",
    "    y_batch = Variable(torch.LongTensor(y_batch).cuda())\n",
    "    logits = model(X_batch)\n",
    "    return F.cross_entropy(logits, y_batch).mean()"
   ]
  },
  {
   "cell_type": "markdown",
   "metadata": {},
   "source": [
    "__ Training __"
   ]
  },
  {
   "cell_type": "code",
   "execution_count": 10,
   "metadata": {
    "collapsed": true
   },
   "outputs": [],
   "source": [
    "def iterate_minibatches(X, y, batchsize):\n",
    "    indices = np.random.permutation(np.arange(len(X)))\n",
    "    for start in range(0, len(indices), batchsize):\n",
    "        ix = indices[start: start + batchsize]\n",
    "        yield X[ix], y[ix]\n",
    "        \n",
    "opt = torch.optim.Adam(model.parameters(), lr=1e-2)\n",
    "\n",
    "train_loss = []\n",
    "val_accuracy = []"
   ]
  },
  {
   "cell_type": "code",
   "execution_count": 11,
   "metadata": {},
   "outputs": [
    {
     "data": {
      "application/vnd.jupyter.widget-view+json": {
       "model_id": "a93dd1c785054d45bb3dac2bc9a3dc88",
       "version_major": 2,
       "version_minor": 0
      },
      "text/plain": [
       "A Jupyter Widget"
      ]
     },
     "metadata": {},
     "output_type": "display_data"
    },
    {
     "name": "stdout",
     "output_type": "stream",
     "text": [
      "Epoch 1 of 25 took 329.111s\n",
      "  training loss (in-iteration): \t2.001197\n",
      "  validation accuracy: \t\t\t46.06 %\n",
      "Epoch 2 of 25 took 323.498s\n",
      "  training loss (in-iteration): \t1.880091\n",
      "  validation accuracy: \t\t\t61.97 %\n",
      "Epoch 3 of 25 took 323.449s\n",
      "  training loss (in-iteration): \t1.823942\n",
      "  validation accuracy: \t\t\t63.81 %\n",
      "Epoch 4 of 25 took 323.420s\n",
      "  training loss (in-iteration): \t1.783672\n",
      "  validation accuracy: \t\t\t66.98 %\n",
      "Epoch 5 of 25 took 323.510s\n",
      "  training loss (in-iteration): \t1.744280\n",
      "  validation accuracy: \t\t\t67.31 %\n",
      "Epoch 6 of 25 took 323.389s\n",
      "  training loss (in-iteration): \t1.723009\n",
      "  validation accuracy: \t\t\t67.71 %\n",
      "Epoch 7 of 25 took 323.443s\n",
      "  training loss (in-iteration): \t1.695531\n",
      "  validation accuracy: \t\t\t73.34 %\n",
      "Epoch 8 of 25 took 323.418s\n",
      "  training loss (in-iteration): \t1.652580\n",
      "  validation accuracy: \t\t\t81.06 %\n",
      "Epoch 9 of 25 took 323.533s\n",
      "  training loss (in-iteration): \t1.637576\n",
      "  validation accuracy: \t\t\t81.15 %\n",
      "Epoch 10 of 25 took 323.568s\n",
      "  training loss (in-iteration): \t1.622064\n",
      "  validation accuracy: \t\t\t81.35 %\n",
      "Epoch 11 of 25 took 323.591s\n",
      "  training loss (in-iteration): \t1.611894\n",
      "  validation accuracy: \t\t\t81.49 %\n",
      "Epoch 12 of 25 took 323.621s\n",
      "  training loss (in-iteration): \t1.600077\n",
      "  validation accuracy: \t\t\t81.66 %\n",
      "Epoch 13 of 25 took 323.638s\n",
      "  training loss (in-iteration): \t1.590328\n",
      "  validation accuracy: \t\t\t82.54 %\n",
      "Epoch 14 of 25 took 323.550s\n",
      "  training loss (in-iteration): \t1.582846\n",
      "  validation accuracy: \t\t\t82.75 %\n",
      "Epoch 15 of 25 took 323.321s\n",
      "  training loss (in-iteration): \t1.556836\n",
      "  validation accuracy: \t\t\t85.23 %\n",
      "Epoch 16 of 25 took 323.345s\n",
      "  training loss (in-iteration): \t1.555295\n",
      "  validation accuracy: \t\t\t85.65 %\n",
      "Epoch 17 of 25 took 323.562s\n",
      "  training loss (in-iteration): \t1.544123\n",
      "  validation accuracy: \t\t\t85.62 %\n",
      "Epoch 18 of 25 took 323.480s\n",
      "  training loss (in-iteration): \t1.543841\n",
      "  validation accuracy: \t\t\t85.50 %\n",
      "Epoch 19 of 25 took 323.454s\n",
      "  training loss (in-iteration): \t1.537566\n",
      "  validation accuracy: \t\t\t85.40 %\n",
      "Epoch 20 of 25 took 323.429s\n",
      "  training loss (in-iteration): \t1.531387\n",
      "  validation accuracy: \t\t\t85.37 %\n",
      "Epoch 21 of 25 took 323.469s\n",
      "  training loss (in-iteration): \t1.529646\n",
      "  validation accuracy: \t\t\t85.48 %\n",
      "Epoch 22 of 25 took 323.439s\n",
      "  training loss (in-iteration): \t1.516395\n",
      "  validation accuracy: \t\t\t86.28 %\n",
      "Epoch 23 of 25 took 323.452s\n",
      "  training loss (in-iteration): \t1.515760\n",
      "  validation accuracy: \t\t\t86.40 %\n",
      "Epoch 24 of 25 took 323.406s\n",
      "  training loss (in-iteration): \t1.514668\n",
      "  validation accuracy: \t\t\t86.21 %\n",
      "Epoch 25 of 25 took 323.420s\n",
      "  training loss (in-iteration): \t1.513089\n",
      "  validation accuracy: \t\t\t86.34 %\n",
      "\n"
     ]
    }
   ],
   "source": [
    "import time\n",
    "num_epochs = 25 # total amount of full passes over training data\n",
    "batch_size = 128  # number of samples processed in one SGD iteration\n",
    "\n",
    "for epoch in tqdm_notebook(range(num_epochs)):\n",
    "    # In each epoch, we do a full pass over the training data:\n",
    "    start_time = time.time()\n",
    "    model.train(True) # enable dropout / batch_norm training behavior\n",
    "    for X_batch, y_batch in iterate_minibatches(X_train_aug, y_train_aug, batch_size):\n",
    "        # train on batch\n",
    "        loss = compute_loss(X_batch, y_batch)\n",
    "        loss.backward()\n",
    "        opt.step()\n",
    "        opt.zero_grad()\n",
    "        train_loss.append(loss.cpu().data.numpy()[0])\n",
    "        \n",
    "    if (epoch+1)%7==0 and (epoch+1)<=18:\n",
    "        opt.param_groups[0]['lr'] = opt.param_groups[0]['lr']/2\n",
    "    elif (epoch+1)%3==0 and (epoch+1)>18:\n",
    "        opt.param_groups[0]['lr'] = opt.param_groups[0]['lr']/10\n",
    "    \n",
    "    # And a full pass over the validation data:\n",
    "    model.train(False) # disable dropout / use averages for batch_norm\n",
    "    for X_batch, y_batch in iterate_minibatches(X_val, y_val, batch_size):\n",
    "        logits = model(Variable(torch.FloatTensor(X_batch).cuda()))\n",
    "        y_pred = logits.max(1)[1].cpu().data.numpy()\n",
    "        val_accuracy.append(np.mean(y_batch == y_pred))\n",
    "\n",
    "    \n",
    "    # Then we print the results for this epoch:\n",
    "    print(\"Epoch {} of {} took {:.3f}s\".format(\n",
    "        epoch + 1, num_epochs, time.time() - start_time))\n",
    "    print(\"  training loss (in-iteration): \\t{:.6f}\".format(\n",
    "        np.mean(train_loss[-len(X_train) // batch_size :])))\n",
    "    print(\"  validation accuracy: \\t\\t\\t{:.2f} %\".format(\n",
    "        np.mean(val_accuracy[-len(X_val) // batch_size :]) * 100))"
   ]
  },
  {
   "cell_type": "code",
   "execution_count": 12,
   "metadata": {},
   "outputs": [
    {
     "name": "stdout",
     "output_type": "stream",
     "text": [
      "Final results:\n",
      "  test accuracy:\t\t85.57 %\n",
      "Achievement unlocked: 110lvl Warlock!\n"
     ]
    }
   ],
   "source": [
    "model.train(False) # disable dropout / use averages for batch_norm\n",
    "test_batch_acc = []\n",
    "for X_batch, y_batch in iterate_minibatches(X_test, y_test, 100):\n",
    "    logits = model(Variable(torch.FloatTensor(X_batch).cuda()))\n",
    "    y_pred = logits.cpu().max(1)[1].data.numpy()\n",
    "    test_batch_acc.append(np.mean(y_batch == y_pred))\n",
    "\n",
    "test_accuracy = np.mean(test_batch_acc)\n",
    "    \n",
    "print(\"Final results:\")\n",
    "print(\"  test accuracy:\\t\\t{:.2f} %\".format(\n",
    "    test_accuracy * 100))\n",
    "\n",
    "if test_accuracy * 100 > 95:\n",
    "    print(\"Double-check, than consider applying for NIPS'18. SRSly.\")\n",
    "elif test_accuracy * 100 > 90:\n",
    "    print(\"U'r freakin' amazin'!\")\n",
    "elif test_accuracy * 100 > 80:\n",
    "    print(\"Achievement unlocked: 110lvl Warlock!\")\n",
    "elif test_accuracy * 100 > 70:\n",
    "    print(\"Achievement unlocked: 80lvl Warlock!\")\n",
    "elif test_accuracy * 100 > 60:\n",
    "    print(\"Achievement unlocked: 70lvl Warlock!\")\n",
    "elif test_accuracy * 100 > 50:\n",
    "    print(\"Achievement unlocked: 60lvl Warlock!\")\n",
    "else:\n",
    "    print(\"We need more magic! Follow instructons below\")"
   ]
  },
  {
   "cell_type": "markdown",
   "metadata": {},
   "source": [
    "Let's also check what is accuracy on the train"
   ]
  },
  {
   "cell_type": "code",
   "execution_count": 38,
   "metadata": {},
   "outputs": [
    {
     "name": "stdout",
     "output_type": "stream",
     "text": [
      "Final results:\n",
      "  Train accuracy:\t\t96.43 %\n",
      "Double-check, than consider applying for NIPS'18. SRSly.\n"
     ]
    }
   ],
   "source": [
    "model.train(False) # disable dropout / use averages for batch_norm\n",
    "test_batch_acc = []\n",
    "for X_batch, y_batch in iterate_minibatches(X_train, y_train, 100):\n",
    "    logits = model(Variable(torch.FloatTensor(X_batch).cuda()))\n",
    "    y_pred = logits.cpu().max(1)[1].data.numpy()\n",
    "    test_batch_acc.append(np.mean(y_batch == y_pred))\n",
    "\n",
    "test_accuracy = np.mean(test_batch_acc)\n",
    "    \n",
    "print(\"Final results:\")\n",
    "print(\"  Train accuracy:\\t\\t{:.2f} %\".format(\n",
    "    test_accuracy * 100))\n",
    "\n",
    "if test_accuracy * 100 > 95:\n",
    "    print(\"Double-check, than consider applying for NIPS'18. SRSly.\")\n",
    "elif test_accuracy * 100 > 90:\n",
    "    print(\"U'r freakin' amazin'!\")\n",
    "elif test_accuracy * 100 > 80:\n",
    "    print(\"Achievement unlocked: 110lvl Warlock!\")\n",
    "elif test_accuracy * 100 > 70:\n",
    "    print(\"Achievement unlocked: 80lvl Warlock!\")\n",
    "elif test_accuracy * 100 > 60:\n",
    "    print(\"Achievement unlocked: 70lvl Warlock!\")\n",
    "elif test_accuracy * 100 > 50:\n",
    "    print(\"Achievement unlocked: 60lvl Warlock!\")\n",
    "else:\n",
    "    print(\"We need more magic! Follow instructons below\")"
   ]
  },
  {
   "cell_type": "markdown",
   "metadata": {},
   "source": [
    "That beacause I test an accaracy on non augmented training set. "
   ]
  },
  {
   "cell_type": "markdown",
   "metadata": {},
   "source": [
    "Let's save weights to use it in our new model:"
   ]
  },
  {
   "cell_type": "code",
   "execution_count": 13,
   "metadata": {
    "collapsed": true
   },
   "outputs": [],
   "source": [
    "layers, weights, biases = ['Conv1','Conv1-2','bn1','Conv2','bn2','Conv3','bn3'], dict(), dict()\n",
    "\n",
    "weights['Conv1'] = model.Conv1.weight\n",
    "biases['Conv1'] = model.Conv1.bias\n",
    "\n",
    "weights['Conv1-2'] = model.__dict__['_modules']['Conv1-2'].weight\n",
    "biases['Conv1-2'] = model.__dict__['_modules']['Conv1-2'].bias\n",
    "\n",
    "weights['bn1'] = model.bn1.weight\n",
    "biases['bn1'] = model.bn1.bias\n",
    "\n",
    "weights['Conv2'] = model.Conv2.weight\n",
    "biases['Conv2'] = model.Conv2.bias\n",
    "\n",
    "weights['bn2'] = model.bn2.weight\n",
    "biases['bn2'] = model.bn2.bias\n",
    "\n",
    "weights['Conv3'] = model.Conv3.weight\n",
    "biases['Conv3'] = model.Conv3.bias\n",
    "\n",
    "weights['bn3'] = model.bn3.weight\n",
    "biases['bn3'] = model.bn3.bias"
   ]
  },
  {
   "cell_type": "markdown",
   "metadata": {},
   "source": [
    " - ##### CIFAR100:"
   ]
  },
  {
   "cell_type": "markdown",
   "metadata": {},
   "source": [
    " - Select two classes from CIFAR100:"
   ]
  },
  {
   "cell_type": "code",
   "execution_count": 14,
   "metadata": {
    "collapsed": true
   },
   "outputs": [],
   "source": [
    "y_train100[y_train100==13] = 0.\n",
    "y_train100[y_train100==37] = 1.\n",
    "\n",
    "y_test100[y_test100==13] = 0.\n",
    "y_test100[y_test100==37] = 1.\n",
    "\n",
    "y_val100[y_val100==13] = 0.\n",
    "y_val100[y_val100==37] = 1."
   ]
  },
  {
   "cell_type": "code",
   "execution_count": 26,
   "metadata": {},
   "outputs": [
    {
     "data": {
      "image/png": "[encoded data removed]",
      "text/plain": [
       "<matplotlib.figure.Figure at 0x7f4fc9b66320>"
      ]
     },
     "metadata": {},
     "output_type": "display_data"
    }
   ],
   "source": [
    "fig, ax = plt.subplots(1,2, figsize=(10,5))\n",
    "ax[0].imshow(X_train100[0][0,...], cmap='gray')\n",
    "ax[0].set_title(y_train100[0])\n",
    "ax[1].imshow(X_train100[100][0,...], cmap='gray')\n",
    "ax[1].set_title(y_train100[100]);"
   ]
  },
  {
   "cell_type": "markdown",
   "metadata": {},
   "source": [
    " - Redifine model with shared weights from previous task:"
   ]
  },
  {
   "cell_type": "code",
   "execution_count": 27,
   "metadata": {
    "collapsed": true
   },
   "outputs": [],
   "source": [
    "net = nn.Sequential()\n",
    "\n",
    "net.add_module('Conv1', nn.Conv2d(in_channels=3, out_channels=256, kernel_size=3, padding=1)) #Conv1\n",
    "net.Conv1.weight, net.Conv1.bias = weights['Conv1'], biases['Conv1']\n",
    "\n",
    "net.add_module('Conv1-2', nn.Conv2d(in_channels=256, out_channels=256, kernel_size=3, padding=1)) #Conv1-2\n",
    "net.__dict__['_modules']['Conv1-2'].weight = weights['Conv1-2']\n",
    "net.__dict__['_modules']['Conv1-2'].bias = biases['Conv1-2']\n",
    "\n",
    "net.add_module('bn1', nn.BatchNorm2d(256)) #bn1\n",
    "net.bn1.weight, net.bn1.bias = weights['bn1'], biases['bn1']\n",
    "\n",
    "net.add_module('relu1', nn.LeakyReLU()) #ReLU1\n",
    "net.add_module('mp1', nn.MaxPool2d(kernel_size=2)) #MP1\n",
    "\n",
    "net.add_module('Conv2', nn.Conv2d(in_channels=256, out_channels=512, kernel_size=3, padding=1)) #Conv2\n",
    "net.Conv2.weight, net.Conv2.bias = weights['Conv2'], biases['Conv2']\n",
    "\n",
    "net.add_module('bn2', nn.BatchNorm2d(512)) #BN2\n",
    "net.bn2.weight, net.bn2.bias = weights['bn2'], biases['bn2'] \n",
    "\n",
    "net.add_module('relu2', nn.LeakyReLU()) #ReLU2\n",
    "net.add_module('mp2', nn.MaxPool2d(kernel_size=2)) #MP2\n",
    "\n",
    "net.add_module('Conv3', nn.Conv2d(in_channels=512, out_channels=1024, kernel_size=3, padding=1)) #Conv3\n",
    "net.Conv3.weight, net.Conv3.bias = weights['Conv3'], biases['Conv3'] \n",
    "\n",
    "net.add_module('bn3', nn.BatchNorm2d(1024)) #BN3\n",
    "net.bn3.weight, net.bn3.bias = weights['bn3'], biases['bn3'] \n",
    "\n",
    "net.add_module('relu3', nn.LeakyReLU())\n",
    "\n",
    "net.add_module('av1', nn.AvgPool2d(kernel_size=8)) #AV1\n",
    "net.add_module('flatten', Flatten()) #Flatten\n",
    "net.add_module('fc1', nn.LeakyReLU()) #fc1\n",
    "\n",
    "net.add_module('Lin', nn.Linear(1024, 2)) #Linear\n",
    "net.add_module('SM', nn.Softmax(dim=1)) #SM\n",
    "\n",
    "net.cuda();"
   ]
  },
  {
   "cell_type": "code",
   "execution_count": 28,
   "metadata": {},
   "outputs": [
    {
     "name": "stdout",
     "output_type": "stream",
     "text": [
      "Rotation done\n"
     ]
    },
    {
     "data": {
      "application/vnd.jupyter.widget-view+json": {
       "model_id": "34cef49b6fd343e09adbbe44e79060b0",
       "version_major": 2,
       "version_minor": 0
      },
      "text/plain": [
       "A Jupyter Widget"
      ]
     },
     "metadata": {},
     "output_type": "display_data"
    },
    {
     "name": "stdout",
     "output_type": "stream",
     "text": [
      "\n"
     ]
    }
   ],
   "source": [
    "#Let's again augment a bit\n",
    "X_train2_aug, y_train2_aug = augment_dataset(X_train100, y_train100, n=2)"
   ]
  },
  {
   "cell_type": "code",
   "execution_count": 29,
   "metadata": {
    "collapsed": true
   },
   "outputs": [],
   "source": [
    "opt = torch.optim.Adam([{'params': net.Conv1.parameters(), 'lr':1e-6},\n",
    "                        {'params': net.__dict__['_modules']['Conv1-2'].parameters(), 'lr':1e-6},\n",
    "                        {'params': net.bn1.parameters(), 'lr':1e-6},\n",
    "                        {'params': net.relu1.parameters()},\n",
    "                        {'params': net.mp1.parameters()},\n",
    "                        {'params': net.Conv2.parameters(), 'lr':1e-6},\n",
    "                        {'params': net.bn2.parameters(), 'lr':1e-6},\n",
    "                        {'params': net.relu2.parameters()},\n",
    "                        {'params': net.mp2.parameters()},\n",
    "                        {'params': net.Conv3.parameters(), 'lr':1e-6},\n",
    "                        {'params': net.bn3.parameters(), 'lr':1e-6},\n",
    "                        {'params': net.relu3.parameters()},\n",
    "                        {'params': net.av1.parameters()},\n",
    "                        {'params': net.flatten.parameters()},\n",
    "                        {'params': net.fc1.parameters()},\n",
    "                        {'params': net.Lin.parameters()},\n",
    "                        {'params': net.SM.parameters()}],\n",
    "                        lr=1e-2)\n",
    "\n",
    "train_loss = []\n",
    "val_accuracy = []"
   ]
  },
  {
   "cell_type": "code",
   "execution_count": 30,
   "metadata": {
    "collapsed": true
   },
   "outputs": [],
   "source": [
    "def compute_loss(X_batch, y_batch):\n",
    "    X_batch = Variable(torch.FloatTensor(X_batch).cuda())\n",
    "    y_batch = Variable(torch.LongTensor(y_batch).cuda())\n",
    "    logits = net(X_batch)\n",
    "    return F.cross_entropy(logits, y_batch).mean()"
   ]
  },
  {
   "cell_type": "markdown",
   "metadata": {},
   "source": [
    "Fine-tune the model:"
   ]
  },
  {
   "cell_type": "code",
   "execution_count": 32,
   "metadata": {},
   "outputs": [
    {
     "data": {
      "application/vnd.jupyter.widget-view+json": {
       "model_id": "48a1f51d77d348ed81b628a45c9b8cb5",
       "version_major": 2,
       "version_minor": 0
      },
      "text/plain": [
       "A Jupyter Widget"
      ]
     },
     "metadata": {},
     "output_type": "display_data"
    },
    {
     "name": "stdout",
     "output_type": "stream",
     "text": [
      "\n"
     ]
    },
    {
     "name": "stderr",
     "output_type": "stream",
     "text": [
      "Exception in thread Thread-10:\n",
      "Traceback (most recent call last):\n",
      "  File \"/home/use/anaconda3/lib/python3.6/threading.py\", line 916, in _bootstrap_inner\n",
      "    self.run()\n",
      "  File \"/home/use/anaconda3/lib/python3.6/site-packages/tqdm/_tqdm.py\", line 144, in run\n",
      "    for instance in self.tqdm_cls._instances:\n",
      "  File \"/home/use/anaconda3/lib/python3.6/_weakrefset.py\", line 60, in __iter__\n",
      "    for itemref in self.data:\n",
      "RuntimeError: Set changed size during iteration\n",
      "\n"
     ]
    },
    {
     "name": "stdout",
     "output_type": "stream",
     "text": [
      "Epoch 1 of 15 took 5.938s\n",
      "  training loss (in-iteration): \t0.406519\n",
      "  validation accuracy: \t\t\t95.51 %\n",
      "Epoch 2 of 15 took 5.823s\n",
      "  training loss (in-iteration): \t0.403737\n",
      "  validation accuracy: \t\t\t95.53 %\n",
      "Epoch 3 of 15 took 5.548s\n",
      "  training loss (in-iteration): \t0.401626\n",
      "  validation accuracy: \t\t\t95.48 %\n",
      "Epoch 4 of 15 took 5.696s\n",
      "  training loss (in-iteration): \t0.399845\n",
      "  validation accuracy: \t\t\t95.10 %\n",
      "Epoch 5 of 15 took 5.529s\n",
      "  training loss (in-iteration): \t0.397727\n",
      "  validation accuracy: \t\t\t95.12 %\n",
      "Epoch 6 of 15 took 5.551s\n",
      "  training loss (in-iteration): \t0.395864\n",
      "  validation accuracy: \t\t\t94.90 %\n",
      "Epoch 7 of 15 took 5.592s\n",
      "  training loss (in-iteration): \t0.393932\n",
      "  validation accuracy: \t\t\t94.87 %\n",
      "Epoch 8 of 15 took 5.603s\n",
      "  training loss (in-iteration): \t0.392854\n",
      "  validation accuracy: \t\t\t94.92 %\n",
      "Epoch 9 of 15 took 5.636s\n",
      "  training loss (in-iteration): \t0.391769\n",
      "  validation accuracy: \t\t\t95.01 %\n",
      "Epoch 10 of 15 took 5.661s\n",
      "  training loss (in-iteration): \t0.388929\n",
      "  validation accuracy: \t\t\t95.05 %\n",
      "Epoch 11 of 15 took 5.575s\n",
      "  training loss (in-iteration): \t0.382860\n",
      "  validation accuracy: \t\t\t94.63 %\n",
      "Epoch 12 of 15 took 5.757s\n",
      "  training loss (in-iteration): \t0.379408\n",
      "  validation accuracy: \t\t\t94.62 %\n",
      "Epoch 13 of 15 took 5.550s\n",
      "  training loss (in-iteration): \t0.376365\n",
      "  validation accuracy: \t\t\t94.62 %\n",
      "Epoch 14 of 15 took 5.704s\n",
      "  training loss (in-iteration): \t0.373809\n",
      "  validation accuracy: \t\t\t94.67 %\n",
      "Epoch 15 of 15 took 5.547s\n",
      "  training loss (in-iteration): \t0.371930\n",
      "  validation accuracy: \t\t\t94.74 %\n",
      "\n"
     ]
    }
   ],
   "source": [
    "num_epochs = 15\n",
    "batch_size = 64\n",
    "\n",
    "for epoch in tqdm_notebook(range(num_epochs)):\n",
    "    # In each epoch, we do a full pass over the training data:\n",
    "    start_time = time.time()\n",
    "    net.train(True) # enable dropout / batch_norm training behavior\n",
    "    for X_batch, y_batch in iterate_minibatches(X_train2_aug, y_train2_aug, batch_size):\n",
    "        # train on batch\n",
    "        loss = compute_loss(X_batch, y_batch)\n",
    "        loss.backward()\n",
    "        opt.step()\n",
    "        opt.zero_grad()\n",
    "        train_loss.append(loss.cpu().data.numpy()[0])\n",
    "        \n",
    "    if (epoch+1)%5==0 and (epoch+1)<=10:\n",
    "        opt.param_groups[0]['lr'] = opt.param_groups[0]['lr']/2\n",
    "    elif (epoch+1)>10 and (epoch+1)%2 == 0:\n",
    "        opt.param_groups[0]['lr'] = opt.param_groups[0]['lr']/10\n",
    "    \n",
    "    # And a full pass over the validation data:\n",
    "    net.train(False) # disable dropout / use averages for batch_norm\n",
    "    for X_batch, y_batch in iterate_minibatches(X_val100, y_val100, batch_size):\n",
    "        logits = net(Variable(torch.FloatTensor(X_batch).cuda()))\n",
    "        y_pred = logits.max(1)[1].cpu().data.numpy()\n",
    "        val_accuracy.append(np.mean(y_batch == y_pred))\n",
    "\n",
    "    \n",
    "    # Then we print the results for this epoch:\n",
    "    print(\"Epoch {} of {} took {:.3f}s\".format(\n",
    "        epoch + 1, num_epochs, time.time() - start_time))\n",
    "    print(\"  training loss (in-iteration): \\t{:.6f}\".format(\n",
    "        np.mean(train_loss[-len(X_train) // batch_size :])))\n",
    "    print(\"  validation accuracy: \\t\\t\\t{:.2f} %\".format(\n",
    "        np.mean(val_accuracy[-len(X_val) // batch_size :]) * 100))"
   ]
  },
  {
   "cell_type": "markdown",
   "metadata": {},
   "source": [
    "Test it:"
   ]
  },
  {
   "cell_type": "code",
   "execution_count": 33,
   "metadata": {},
   "outputs": [
    {
     "name": "stdout",
     "output_type": "stream",
     "text": [
      "Final results:\n",
      "  test accuracy:\t\t90.00 %\n",
      "Achievement unlocked: 110lvl Warlock!\n"
     ]
    }
   ],
   "source": [
    "net.train(False) # disable dropout / use averages for batch_norm\n",
    "test_batch_acc = []\n",
    "for X_batch, y_batch in iterate_minibatches(X_test100, y_test100, 100):\n",
    "    logits = net(Variable(torch.FloatTensor(X_batch).cuda()))\n",
    "    y_pred = logits.cpu().max(1)[1].data.numpy()\n",
    "    test_batch_acc.append(np.mean(y_batch == y_pred))\n",
    "\n",
    "test_accuracy = np.mean(test_batch_acc)\n",
    "    \n",
    "print(\"Final results:\")\n",
    "print(\"  test accuracy:\\t\\t{:.2f} %\".format(\n",
    "    test_accuracy * 100))\n",
    "\n",
    "if test_accuracy * 100 > 95:\n",
    "    print(\"Double-check, than consider applying for NIPS'18. SRSly.\")\n",
    "elif test_accuracy * 100 > 90:\n",
    "    print(\"U'r freakin' amazin'!\")\n",
    "elif test_accuracy * 100 > 80:\n",
    "    print(\"Achievement unlocked: 110lvl Warlock!\")\n",
    "elif test_accuracy * 100 > 70:\n",
    "    print(\"Achievement unlocked: 80lvl Warlock!\")\n",
    "elif test_accuracy * 100 > 60:\n",
    "    print(\"Achievement unlocked: 70lvl Warlock!\")\n",
    "elif test_accuracy * 100 > 50:\n",
    "    print(\"Achievement unlocked: 60lvl Warlock!\")\n",
    "else:\n",
    "    print(\"We need more magic! Follow instructons below\")"
   ]
  },
  {
   "cell_type": "markdown",
   "metadata": {},
   "source": [
    " - ##### Let's now use the same model with random initialization:"
   ]
  },
  {
   "cell_type": "code",
   "execution_count": 34,
   "metadata": {},
   "outputs": [
    {
     "data": {
      "text/plain": [
       "Sequential(\n",
       "  (Conv1): Conv2d (3, 256, kernel_size=(3, 3), stride=(1, 1), padding=(1, 1))\n",
       "  (Conv1-2): Conv2d (256, 256, kernel_size=(3, 3), stride=(1, 1), padding=(1, 1))\n",
       "  (bn1): BatchNorm2d(256, eps=1e-05, momentum=0.1, affine=True)\n",
       "  (relu1): LeakyReLU(0.01)\n",
       "  (mp1): MaxPool2d(kernel_size=(2, 2), stride=(2, 2), dilation=(1, 1))\n",
       "  (Conv2): Conv2d (256, 512, kernel_size=(3, 3), stride=(1, 1), padding=(1, 1))\n",
       "  (bn2): BatchNorm2d(512, eps=1e-05, momentum=0.1, affine=True)\n",
       "  (relu2): LeakyReLU(0.01)\n",
       "  (mp2): MaxPool2d(kernel_size=(2, 2), stride=(2, 2), dilation=(1, 1))\n",
       "  (Conv3): Conv2d (512, 1024, kernel_size=(3, 3), stride=(1, 1), padding=(1, 1))\n",
       "  (bn3): BatchNorm2d(1024, eps=1e-05, momentum=0.1, affine=True)\n",
       "  (relu3): LeakyReLU(0.01)\n",
       "  (av1): AvgPool2d(kernel_size=8, stride=8, padding=0, ceil_mode=False, count_include_pad=True)\n",
       "  (flatten): Flatten(\n",
       "  )\n",
       "  (fc1): LeakyReLU(0.01)\n",
       "  (Lin): Linear(in_features=1024, out_features=2)\n",
       "  (SM): Softmax()\n",
       ")"
      ]
     },
     "execution_count": 34,
     "metadata": {},
     "output_type": "execute_result"
    }
   ],
   "source": [
    "net = nn.Sequential()\n",
    "net.add_module('Conv1', nn.Conv2d(in_channels=3, out_channels=256, kernel_size=3, padding=1))\n",
    "net.add_module('Conv1-2', nn.Conv2d(in_channels=256, out_channels=256, kernel_size=3, padding=1))\n",
    "net.add_module('bn1', nn.BatchNorm2d(256))\n",
    "net.add_module('relu1', nn.LeakyReLU())\n",
    "net.add_module('mp1', nn.MaxPool2d(kernel_size=2))\n",
    "\n",
    "net.add_module('Conv2', nn.Conv2d(in_channels=256, out_channels=512, kernel_size=3, padding=1))\n",
    "net.add_module('bn2', nn.BatchNorm2d(512))\n",
    "net.add_module('relu2', nn.LeakyReLU())\n",
    "net.add_module('mp2', nn.MaxPool2d(kernel_size=2))\n",
    "\n",
    "net.add_module('Conv3', nn.Conv2d(in_channels=512, out_channels=1024, kernel_size=3, padding=1))\n",
    "net.add_module('bn3', nn.BatchNorm2d(1024))\n",
    "net.add_module('relu3', nn.LeakyReLU())\n",
    "\n",
    "net.add_module('av1', nn.AvgPool2d(kernel_size=8))\n",
    "net.add_module('flatten', Flatten())\n",
    "net.add_module('fc1', nn.LeakyReLU())\n",
    "\n",
    "net.add_module('Lin', nn.Linear(1024, 2))\n",
    "net.add_module('SM', nn.Softmax(dim=1))\n",
    "\n",
    "net.cuda()"
   ]
  },
  {
   "cell_type": "code",
   "execution_count": 35,
   "metadata": {
    "collapsed": true
   },
   "outputs": [],
   "source": [
    "opt = torch.optim.Adam(net.parameters(), lr=1e-2)\n",
    "\n",
    "train_loss = []\n",
    "val_accuracy = []"
   ]
  },
  {
   "cell_type": "markdown",
   "metadata": {},
   "source": [
    "Train it:"
   ]
  },
  {
   "cell_type": "code",
   "execution_count": 36,
   "metadata": {},
   "outputs": [
    {
     "data": {
      "application/vnd.jupyter.widget-view+json": {
       "model_id": "a9308accfada4a2d9bfd76f7522d7768",
       "version_major": 2,
       "version_minor": 0
      },
      "text/plain": [
       "A Jupyter Widget"
      ]
     },
     "metadata": {},
     "output_type": "display_data"
    },
    {
     "name": "stdout",
     "output_type": "stream",
     "text": [
      "Epoch 1 of 50 took 5.590s\n",
      "  training loss (in-iteration): \t0.707205\n",
      "  validation accuracy: \t\t\t50.91 %\n",
      "Epoch 2 of 50 took 5.371s\n",
      "  training loss (in-iteration): \t0.644073\n",
      "  validation accuracy: \t\t\t60.18 %\n",
      "Epoch 3 of 50 took 5.635s\n",
      "  training loss (in-iteration): \t0.617619\n",
      "  validation accuracy: \t\t\t62.82 %\n",
      "Epoch 4 of 50 took 5.385s\n",
      "  training loss (in-iteration): \t0.596741\n",
      "  validation accuracy: \t\t\t67.51 %\n",
      "Epoch 5 of 50 took 5.388s\n",
      "  training loss (in-iteration): \t0.578547\n",
      "  validation accuracy: \t\t\t67.49 %\n",
      "Epoch 6 of 50 took 5.599s\n",
      "  training loss (in-iteration): \t0.562597\n",
      "  validation accuracy: \t\t\t69.79 %\n",
      "Epoch 7 of 50 took 5.479s\n",
      "  training loss (in-iteration): \t0.547628\n",
      "  validation accuracy: \t\t\t70.85 %\n",
      "Epoch 8 of 50 took 5.538s\n",
      "  training loss (in-iteration): \t0.535693\n",
      "  validation accuracy: \t\t\t72.09 %\n",
      "Epoch 9 of 50 took 5.400s\n",
      "  training loss (in-iteration): \t0.525641\n",
      "  validation accuracy: \t\t\t73.05 %\n",
      "Epoch 10 of 50 took 5.406s\n",
      "  training loss (in-iteration): \t0.517306\n",
      "  validation accuracy: \t\t\t73.29 %\n",
      "Epoch 11 of 50 took 5.408s\n",
      "  training loss (in-iteration): \t0.509685\n",
      "  validation accuracy: \t\t\t74.21 %\n",
      "Epoch 12 of 50 took 5.526s\n",
      "  training loss (in-iteration): \t0.502864\n",
      "  validation accuracy: \t\t\t75.32 %\n",
      "Epoch 13 of 50 took 5.414s\n",
      "  training loss (in-iteration): \t0.497818\n",
      "  validation accuracy: \t\t\t75.57 %\n",
      "Epoch 14 of 50 took 5.476s\n",
      "  training loss (in-iteration): \t0.492704\n",
      "  validation accuracy: \t\t\t76.04 %\n",
      "Epoch 15 of 50 took 5.561s\n",
      "  training loss (in-iteration): \t0.487283\n",
      "  validation accuracy: \t\t\t76.06 %\n",
      "Epoch 16 of 50 took 5.405s\n",
      "  training loss (in-iteration): \t0.482171\n",
      "  validation accuracy: \t\t\t76.78 %\n",
      "Epoch 17 of 50 took 5.442s\n",
      "  training loss (in-iteration): \t0.477476\n",
      "  validation accuracy: \t\t\t77.46 %\n",
      "Epoch 18 of 50 took 5.457s\n",
      "  training loss (in-iteration): \t0.473296\n",
      "  validation accuracy: \t\t\t77.98 %\n",
      "Epoch 19 of 50 took 5.446s\n",
      "  training loss (in-iteration): \t0.469093\n",
      "  validation accuracy: \t\t\t78.48 %\n",
      "Epoch 20 of 50 took 5.509s\n",
      "  training loss (in-iteration): \t0.458276\n",
      "  validation accuracy: \t\t\t78.78 %\n",
      "Epoch 21 of 50 took 5.412s\n",
      "  training loss (in-iteration): \t0.446261\n",
      "  validation accuracy: \t\t\t79.26 %\n",
      "Epoch 22 of 50 took 5.425s\n",
      "  training loss (in-iteration): \t0.436045\n",
      "  validation accuracy: \t\t\t79.79 %\n",
      "Epoch 23 of 50 took 5.469s\n",
      "  training loss (in-iteration): \t0.427275\n",
      "  validation accuracy: \t\t\t80.03 %\n",
      "Epoch 24 of 50 took 5.418s\n",
      "  training loss (in-iteration): \t0.420179\n",
      "  validation accuracy: \t\t\t80.43 %\n",
      "Epoch 25 of 50 took 5.431s\n",
      "  training loss (in-iteration): \t0.414091\n",
      "  validation accuracy: \t\t\t80.83 %\n",
      "Epoch 26 of 50 took 5.421s\n",
      "  training loss (in-iteration): \t0.409215\n",
      "  validation accuracy: \t\t\t81.07 %\n",
      "Epoch 27 of 50 took 5.442s\n",
      "  training loss (in-iteration): \t0.405036\n",
      "  validation accuracy: \t\t\t81.38 %\n",
      "Epoch 28 of 50 took 5.433s\n",
      "  training loss (in-iteration): \t0.400981\n",
      "  validation accuracy: \t\t\t81.65 %\n",
      "Epoch 29 of 50 took 5.440s\n",
      "  training loss (in-iteration): \t0.397428\n",
      "  validation accuracy: \t\t\t81.94 %\n",
      "Epoch 30 of 50 took 5.493s\n",
      "  training loss (in-iteration): \t0.393730\n",
      "  validation accuracy: \t\t\t82.18 %\n",
      "Epoch 31 of 50 took 5.651s\n",
      "  training loss (in-iteration): \t0.390585\n",
      "  validation accuracy: \t\t\t82.37 %\n",
      "Epoch 32 of 50 took 5.470s\n",
      "  training loss (in-iteration): \t0.387733\n",
      "  validation accuracy: \t\t\t82.61 %\n",
      "Epoch 33 of 50 took 5.498s\n",
      "  training loss (in-iteration): \t0.384226\n",
      "  validation accuracy: \t\t\t82.86 %\n",
      "Epoch 34 of 50 took 5.524s\n",
      "  training loss (in-iteration): \t0.381770\n",
      "  validation accuracy: \t\t\t83.05 %\n",
      "Epoch 35 of 50 took 5.435s\n",
      "  training loss (in-iteration): \t0.379869\n",
      "  validation accuracy: \t\t\t83.21 %\n",
      "Epoch 36 of 50 took 5.444s\n",
      "  training loss (in-iteration): \t0.377872\n",
      "  validation accuracy: \t\t\t83.40 %\n",
      "Epoch 37 of 50 took 5.438s\n",
      "  training loss (in-iteration): \t0.376299\n",
      "  validation accuracy: \t\t\t83.56 %\n",
      "Epoch 38 of 50 took 5.443s\n",
      "  training loss (in-iteration): \t0.374717\n",
      "  validation accuracy: \t\t\t83.73 %\n",
      "Epoch 39 of 50 took 5.447s\n",
      "  training loss (in-iteration): \t0.373263\n",
      "  validation accuracy: \t\t\t83.86 %\n",
      "Epoch 40 of 50 took 5.445s\n",
      "  training loss (in-iteration): \t0.372244\n",
      "  validation accuracy: \t\t\t84.48 %\n",
      "Epoch 41 of 50 took 5.454s\n",
      "  training loss (in-iteration): \t0.371658\n",
      "  validation accuracy: \t\t\t85.11 %\n",
      "Epoch 42 of 50 took 5.428s\n",
      "  training loss (in-iteration): \t0.370875\n",
      "  validation accuracy: \t\t\t85.70 %\n",
      "Epoch 43 of 50 took 5.450s\n",
      "  training loss (in-iteration): \t0.370328\n",
      "  validation accuracy: \t\t\t86.14 %\n",
      "Epoch 44 of 50 took 5.443s\n",
      "  training loss (in-iteration): \t0.369588\n",
      "  validation accuracy: \t\t\t86.51 %\n",
      "Epoch 45 of 50 took 5.445s\n",
      "  training loss (in-iteration): \t0.369236\n",
      "  validation accuracy: \t\t\t86.90 %\n",
      "Epoch 46 of 50 took 5.443s\n",
      "  training loss (in-iteration): \t0.368862\n",
      "  validation accuracy: \t\t\t87.17 %\n",
      "Epoch 47 of 50 took 5.442s\n",
      "  training loss (in-iteration): \t0.368530\n",
      "  validation accuracy: \t\t\t87.41 %\n",
      "Epoch 48 of 50 took 5.455s\n",
      "  training loss (in-iteration): \t0.368367\n",
      "  validation accuracy: \t\t\t87.64 %\n",
      "Epoch 49 of 50 took 5.458s\n",
      "  training loss (in-iteration): \t0.368267\n",
      "  validation accuracy: \t\t\t87.86 %\n",
      "Epoch 50 of 50 took 5.444s\n",
      "  training loss (in-iteration): \t0.367853\n",
      "  validation accuracy: \t\t\t88.24 %\n",
      "\n"
     ]
    }
   ],
   "source": [
    "num_epochs = 50\n",
    "batch_size = 128\n",
    "\n",
    "for epoch in tqdm_notebook(range(num_epochs)):\n",
    "    # In each epoch, we do a full pass over the training data:\n",
    "    start_time = time.time()\n",
    "    net.train(True) # enable dropout / batch_norm training behavior\n",
    "    for X_batch, y_batch in iterate_minibatches(X_train2_aug, y_train2_aug, batch_size):\n",
    "        # train on batch\n",
    "        loss = compute_loss(X_batch, y_batch)\n",
    "        loss.backward()\n",
    "        opt.step()\n",
    "        opt.zero_grad()\n",
    "        train_loss.append(loss.cpu().data.numpy()[0])\n",
    "        \n",
    "    if (epoch+1)%5==0:\n",
    "        opt.param_groups[0]['lr'] = opt.param_groups[0]['lr']/2\n",
    "    \n",
    "    # And a full pass over the validation data:\n",
    "    net.train(False) # disable dropout / use averages for batch_norm\n",
    "    for X_batch, y_batch in iterate_minibatches(X_val100, y_val100, batch_size):\n",
    "        logits = net(Variable(torch.FloatTensor(X_batch).cuda()))\n",
    "        y_pred = logits.max(1)[1].cpu().data.numpy()\n",
    "        val_accuracy.append(np.mean(y_batch == y_pred))\n",
    "\n",
    "    \n",
    "    # Then we print the results for this epoch:\n",
    "    print(\"Epoch {} of {} took {:.3f}s\".format(\n",
    "        epoch + 1, num_epochs, time.time() - start_time))\n",
    "    print(\"  training loss (in-iteration): \\t{:.6f}\".format(\n",
    "        np.mean(train_loss[-len(X_train) // batch_size :])))\n",
    "    print(\"  validation accuracy: \\t\\t\\t{:.2f} %\".format(\n",
    "        np.mean(val_accuracy[-len(X_val) // batch_size :]) * 100))"
   ]
  },
  {
   "cell_type": "markdown",
   "metadata": {},
   "source": [
    "Test it:"
   ]
  },
  {
   "cell_type": "code",
   "execution_count": 37,
   "metadata": {},
   "outputs": [
    {
     "name": "stdout",
     "output_type": "stream",
     "text": [
      "Final results:\n",
      "  test accuracy:\t\t80.50 %\n",
      "Achievement unlocked: 110lvl Warlock!\n"
     ]
    }
   ],
   "source": [
    "net.train(False) # disable dropout / use averages for batch_norm\n",
    "test_batch_acc = []\n",
    "for X_batch, y_batch in iterate_minibatches(X_test100, y_test100, 100):\n",
    "    logits = net(Variable(torch.FloatTensor(X_batch).cuda()))\n",
    "    y_pred = logits.cpu().max(1)[1].data.numpy()\n",
    "    test_batch_acc.append(np.mean(y_batch == y_pred))\n",
    "\n",
    "test_accuracy = np.mean(test_batch_acc)\n",
    "    \n",
    "print(\"Final results:\")\n",
    "print(\"  test accuracy:\\t\\t{:.2f} %\".format(\n",
    "    test_accuracy * 100))\n",
    "\n",
    "if test_accuracy * 100 > 95:\n",
    "    print(\"Double-check, than consider applying for NIPS'18. SRSly.\")\n",
    "elif test_accuracy * 100 > 90:\n",
    "    print(\"U'r freakin' amazin'!\")\n",
    "elif test_accuracy * 100 > 80:\n",
    "    print(\"Achievement unlocked: 110lvl Warlock!\")\n",
    "elif test_accuracy * 100 > 70:\n",
    "    print(\"Achievement unlocked: 80lvl Warlock!\")\n",
    "elif test_accuracy * 100 > 60:\n",
    "    print(\"Achievement unlocked: 70lvl Warlock!\")\n",
    "elif test_accuracy * 100 > 50:\n",
    "    print(\"Achievement unlocked: 60lvl Warlock!\")\n",
    "else:\n",
    "    print(\"We need more magic! Follow instructons below\")"
   ]
  },
  {
   "cell_type": "markdown",
   "metadata": {},
   "source": [
    " - ##### Compare fine-tuned model and the one with a random initialization:"
   ]
  },
  {
   "cell_type": "markdown",
   "metadata": {},
   "source": [
    "We observed that the model with random initialization can still achieve good accuracy (but probably because of just such dataset). However, it requires much more time to train in terms of numbers of epoches to converge to more or less good performance. While fine-tuning I didn't prevent the layers with learned weights from learning, but I specified a small learning rate for them. I found it's a good idea, because it slightly enhaced a performance and because of the tiny dataset, it's not so expensive. All in all, fine-tuned model needs much less time to train and accuracy is better for almost 10%."
   ]
  },
  {
   "cell_type": "markdown",
   "metadata": {},
   "source": [
    "# Report."
   ]
  },
  {
   "cell_type": "markdown",
   "metadata": {},
   "source": [
    "### Hi, my name is `Artem Moskalev`, and here's my story\n",
    "\n",
    "A long time ago in a galaxy far far away, when it was still more than an hour before the deadline, I got an idea:"
   ]
  },
  {
   "cell_type": "markdown",
   "metadata": {
    "collapsed": true
   },
   "source": [
    "* the idea\n",
    "\n",
    "The main idea was to adopt some principles of AlexNet/VGG/InceptionNet in more simple and shallow network. My choice of architecture is not so sophisticated I guess, but it works well and I did some tricks to make it better.\n",
    "\n",
    "* brief history of tweaks and improvements;\n",
    "\n",
    "Firstly, I had just one 5x5 Convolution in the beginning. I still believe that it would work okay, but because of computational reasons, I substituted this layer with two consecutive 3x3 convolution. This trick actually was introduced in a paper about VGG and it's quite intuitive because the receptive field remains the same, but a number of parameters is lower. \n",
    "\n",
    "Second, inspired by augmentation techniques presented in AlexNet paper, I did flips and random crops and finally increased the size of my training data on CIFAR10 in 3 times. I believe that augmentation played an important role and greatly enhanced performance.\n",
    "\n",
    "Third, to reduce the number of parameters and inspired by GoogLeNet paper, I did not use two fully connected layers in the end, but substituted first fully connected layer with average pooling to shrink all feature maps to the vector $ X\\in R^C$, where $C$ is the number of channels.\n",
    "\n",
    "* what is the final architecture and why?\n",
    "\n",
    "These improvements led to the final choice of the architecture, which I used further. I also experimented with the different number of channels. The pipeline of $C^3 \\rightarrow C^{256} \\rightarrow C^{256} \\rightarrow C^{512} \\rightarrow C^{1024}$ seems to be the best for the specific architecture I use.\n",
    "\n",
    "* what is the training method and, again, why?\n",
    "\n",
    "Among optimization techniques I found an Adam (surprised?) to be the best. I also experimented with SGD. It's faster but earns poorer results (surprised?). \n",
    "\n",
    "To find an appropriate number of epochs I firstly ran a network through 50 epochs and found that after 18-th one there was absolutely no improvement on a validation set. I was able to fix it by decreasing learning rate and got the number of epochs that give an enhancement to 25. Experiments with decreasing learning rate after 25-th epoch with the total number of epochs increased were not so successful. \n",
    "\n",
    "The choice of a batch size was based on the idea to find a balance between computational time and the speed of convergence. With higher batch sizes network took larger steps to an optimum, but the price was the time. I found that the batch size of 128 is a good compromise.\n",
    "\n",
    "* Any regularizations and other techniques applied and their effects;\n",
    "\n",
    "I tried both Dropout and Batch Normalization. First did not give any improvements and even slightly reduced an accuracy. On the other hand, Batch Normalization greatly improved the performance and turned to be crucial to build a good network.\n",
    "<br>\n",
    "<br>\n",
    "<br>\n",
    "For fine-tuning and random-initialization on CIFAR's 100 two classes. The number of epochs was chosen based on the same principle: I first run a network on the many epochs and check after which one the performance plateaus, then play with decreasing learning rates to increase the number of epochs from which we the network is able to earn something."
   ]
  },
  {
   "cell_type": "markdown",
   "metadata": {},
   "source": [
    "P.S. Cool Homework. Thanks."
   ]
  }
 ],
 "metadata": {
  "kernelspec": {
   "display_name": "Python 3",
   "language": "python",
   "name": "python3"
  },
  "language_info": {
   "codemirror_mode": {
    "name": "ipython",
    "version": 3
   },
   "file_extension": ".py",
   "mimetype": "text/x-python",
   "name": "python",
   "nbconvert_exporter": "python",
   "pygments_lexer": "ipython3",
   "version": "3.6.4"
  }
 },
 "nbformat": 4,
 "nbformat_minor": 1
}
